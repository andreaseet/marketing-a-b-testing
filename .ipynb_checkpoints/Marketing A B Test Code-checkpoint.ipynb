{
 "cells": [
  {
   "cell_type": "markdown",
   "id": "b2022e4b",
   "metadata": {},
   "source": [
    "# Marketing A/B Test"
   ]
  },
  {
   "cell_type": "markdown",
   "id": "b7eea975",
   "metadata": {},
   "source": [
    "## Experiment Goals"
   ]
  },
  {
   "cell_type": "markdown",
   "id": "76727bdf",
   "metadata": {},
   "source": [
    "Kaggle website: https://www.kaggle.com/datasets/faviovaz/marketing-ab-testing"
   ]
  },
  {
   "cell_type": "markdown",
   "id": "fcbc98a1",
   "metadata": {},
   "source": [
    "We are running an A/B test on our data to understand if the marketing campaign is successful.\n",
    "If the campaign was successful, how much of that success could be attributed to the ads?"
   ]
  },
  {
   "cell_type": "markdown",
   "id": "dcc5872d",
   "metadata": {},
   "source": [
    "The majority of the people will be exposed to ads (the experimental group). And a small portion of people (the control group) would instead see a Public Service Announcement (PSA) (or nothing) in the exact size and place the ad would normally be."
   ]
  },
  {
   "cell_type": "markdown",
   "id": "7ca2dbeb",
   "metadata": {},
   "source": [
    "Are the ads successful? How much the company can make from the ads? Is the difference between the groups is statistically significant?"
   ]
  },
  {
   "cell_type": "markdown",
   "id": "5aeb2d16",
   "metadata": {},
   "source": [
    "Scenario:"
   ]
  },
  {
   "cell_type": "markdown",
   "id": "2b2ca8ab",
   "metadata": {},
   "source": [
    "The product manager said in our retrospective meeting that the expected conversion rate of the ads should be 4%, which is 2% higher than our average."
   ]
  },
  {
   "cell_type": "code",
   "execution_count": 1,
   "id": "4d0e5dca",
   "metadata": {},
   "outputs": [],
   "source": [
    "import pandas as pd\n",
    "import numpy as np\n",
    "import pandas as pd\n",
    "import scipy.stats as stats\n",
    "import statsmodels.stats.api as sms\n",
    "import matplotlib as mpl\n",
    "import matplotlib.pyplot as plt\n",
    "import seaborn as sns\n",
    "from math import ceil"
   ]
  },
  {
   "cell_type": "code",
   "execution_count": 50,
   "id": "ee536742",
   "metadata": {},
   "outputs": [],
   "source": [
    "%matplotlib inline\n",
    "\n",
    "# Some plot styling preferences\n",
    "plt.style.use('seaborn-whitegrid')\n",
    "font = {'family' : 'Helvetica',\n",
    "       'weight' : 'bold',\n",
    "       'size'   : 14}\n",
    "\n",
    "mpl.rc('font', **font)\n"
   ]
  },
  {
   "cell_type": "code",
   "execution_count": 2,
   "id": "9d4ca292",
   "metadata": {},
   "outputs": [],
   "source": [
    "df = pd.read_csv(\"/Users/andreaseet/Downloads/marketing-a-b-testing/marketing_AB.csv\")"
   ]
  },
  {
   "cell_type": "markdown",
   "id": "f76ed78f",
   "metadata": {},
   "source": [
    "Exploratory Analysis"
   ]
  },
  {
   "cell_type": "code",
   "execution_count": 56,
   "id": "decf5edd",
   "metadata": {},
   "outputs": [
    {
     "data": {
      "text/html": [
       "<div>\n",
       "<style scoped>\n",
       "    .dataframe tbody tr th:only-of-type {\n",
       "        vertical-align: middle;\n",
       "    }\n",
       "\n",
       "    .dataframe tbody tr th {\n",
       "        vertical-align: top;\n",
       "    }\n",
       "\n",
       "    .dataframe thead th {\n",
       "        text-align: right;\n",
       "    }\n",
       "</style>\n",
       "<table border=\"1\" class=\"dataframe\">\n",
       "  <thead>\n",
       "    <tr style=\"text-align: right;\">\n",
       "      <th></th>\n",
       "      <th>Unnamed: 0</th>\n",
       "      <th>user id</th>\n",
       "      <th>test group</th>\n",
       "      <th>converted</th>\n",
       "      <th>total ads</th>\n",
       "      <th>most ads day</th>\n",
       "      <th>most ads hour</th>\n",
       "      <th>converted_binary</th>\n",
       "      <th>test_group_binary</th>\n",
       "      <th>value</th>\n",
       "    </tr>\n",
       "  </thead>\n",
       "  <tbody>\n",
       "    <tr>\n",
       "      <th>0</th>\n",
       "      <td>0</td>\n",
       "      <td>1069124</td>\n",
       "      <td>ad</td>\n",
       "      <td>False</td>\n",
       "      <td>130</td>\n",
       "      <td>Monday</td>\n",
       "      <td>20</td>\n",
       "      <td>0</td>\n",
       "      <td>1</td>\n",
       "      <td>1</td>\n",
       "    </tr>\n",
       "    <tr>\n",
       "      <th>1</th>\n",
       "      <td>1</td>\n",
       "      <td>1119715</td>\n",
       "      <td>ad</td>\n",
       "      <td>False</td>\n",
       "      <td>93</td>\n",
       "      <td>Tuesday</td>\n",
       "      <td>22</td>\n",
       "      <td>0</td>\n",
       "      <td>1</td>\n",
       "      <td>1</td>\n",
       "    </tr>\n",
       "    <tr>\n",
       "      <th>2</th>\n",
       "      <td>2</td>\n",
       "      <td>1144181</td>\n",
       "      <td>ad</td>\n",
       "      <td>False</td>\n",
       "      <td>21</td>\n",
       "      <td>Tuesday</td>\n",
       "      <td>18</td>\n",
       "      <td>0</td>\n",
       "      <td>1</td>\n",
       "      <td>1</td>\n",
       "    </tr>\n",
       "    <tr>\n",
       "      <th>3</th>\n",
       "      <td>3</td>\n",
       "      <td>1435133</td>\n",
       "      <td>ad</td>\n",
       "      <td>False</td>\n",
       "      <td>355</td>\n",
       "      <td>Tuesday</td>\n",
       "      <td>10</td>\n",
       "      <td>0</td>\n",
       "      <td>1</td>\n",
       "      <td>1</td>\n",
       "    </tr>\n",
       "    <tr>\n",
       "      <th>4</th>\n",
       "      <td>4</td>\n",
       "      <td>1015700</td>\n",
       "      <td>ad</td>\n",
       "      <td>False</td>\n",
       "      <td>276</td>\n",
       "      <td>Friday</td>\n",
       "      <td>14</td>\n",
       "      <td>0</td>\n",
       "      <td>1</td>\n",
       "      <td>1</td>\n",
       "    </tr>\n",
       "    <tr>\n",
       "      <th>...</th>\n",
       "      <td>...</td>\n",
       "      <td>...</td>\n",
       "      <td>...</td>\n",
       "      <td>...</td>\n",
       "      <td>...</td>\n",
       "      <td>...</td>\n",
       "      <td>...</td>\n",
       "      <td>...</td>\n",
       "      <td>...</td>\n",
       "      <td>...</td>\n",
       "    </tr>\n",
       "    <tr>\n",
       "      <th>588096</th>\n",
       "      <td>588096</td>\n",
       "      <td>1278437</td>\n",
       "      <td>ad</td>\n",
       "      <td>False</td>\n",
       "      <td>1</td>\n",
       "      <td>Tuesday</td>\n",
       "      <td>23</td>\n",
       "      <td>0</td>\n",
       "      <td>1</td>\n",
       "      <td>1</td>\n",
       "    </tr>\n",
       "    <tr>\n",
       "      <th>588097</th>\n",
       "      <td>588097</td>\n",
       "      <td>1327975</td>\n",
       "      <td>ad</td>\n",
       "      <td>False</td>\n",
       "      <td>1</td>\n",
       "      <td>Tuesday</td>\n",
       "      <td>23</td>\n",
       "      <td>0</td>\n",
       "      <td>1</td>\n",
       "      <td>1</td>\n",
       "    </tr>\n",
       "    <tr>\n",
       "      <th>588098</th>\n",
       "      <td>588098</td>\n",
       "      <td>1038442</td>\n",
       "      <td>ad</td>\n",
       "      <td>False</td>\n",
       "      <td>3</td>\n",
       "      <td>Tuesday</td>\n",
       "      <td>23</td>\n",
       "      <td>0</td>\n",
       "      <td>1</td>\n",
       "      <td>1</td>\n",
       "    </tr>\n",
       "    <tr>\n",
       "      <th>588099</th>\n",
       "      <td>588099</td>\n",
       "      <td>1496395</td>\n",
       "      <td>ad</td>\n",
       "      <td>False</td>\n",
       "      <td>1</td>\n",
       "      <td>Tuesday</td>\n",
       "      <td>23</td>\n",
       "      <td>0</td>\n",
       "      <td>1</td>\n",
       "      <td>1</td>\n",
       "    </tr>\n",
       "    <tr>\n",
       "      <th>588100</th>\n",
       "      <td>588100</td>\n",
       "      <td>1237779</td>\n",
       "      <td>ad</td>\n",
       "      <td>False</td>\n",
       "      <td>1</td>\n",
       "      <td>Tuesday</td>\n",
       "      <td>23</td>\n",
       "      <td>0</td>\n",
       "      <td>1</td>\n",
       "      <td>1</td>\n",
       "    </tr>\n",
       "  </tbody>\n",
       "</table>\n",
       "<p>588101 rows × 10 columns</p>\n",
       "</div>"
      ],
      "text/plain": [
       "        Unnamed: 0  user id test group  converted  total ads most ads day  \\\n",
       "0                0  1069124         ad      False        130       Monday   \n",
       "1                1  1119715         ad      False         93      Tuesday   \n",
       "2                2  1144181         ad      False         21      Tuesday   \n",
       "3                3  1435133         ad      False        355      Tuesday   \n",
       "4                4  1015700         ad      False        276       Friday   \n",
       "...            ...      ...        ...        ...        ...          ...   \n",
       "588096      588096  1278437         ad      False          1      Tuesday   \n",
       "588097      588097  1327975         ad      False          1      Tuesday   \n",
       "588098      588098  1038442         ad      False          3      Tuesday   \n",
       "588099      588099  1496395         ad      False          1      Tuesday   \n",
       "588100      588100  1237779         ad      False          1      Tuesday   \n",
       "\n",
       "        most ads hour  converted_binary  test_group_binary  value  \n",
       "0                  20                 0                  1      1  \n",
       "1                  22                 0                  1      1  \n",
       "2                  18                 0                  1      1  \n",
       "3                  10                 0                  1      1  \n",
       "4                  14                 0                  1      1  \n",
       "...               ...               ...                ...    ...  \n",
       "588096             23                 0                  1      1  \n",
       "588097             23                 0                  1      1  \n",
       "588098             23                 0                  1      1  \n",
       "588099             23                 0                  1      1  \n",
       "588100             23                 0                  1      1  \n",
       "\n",
       "[588101 rows x 10 columns]"
      ]
     },
     "execution_count": 56,
     "metadata": {},
     "output_type": "execute_result"
    }
   ],
   "source": [
    "df"
   ]
  },
  {
   "cell_type": "code",
   "execution_count": 5,
   "id": "0fe46454",
   "metadata": {},
   "outputs": [
    {
     "data": {
      "text/plain": [
       "ad     564577\n",
       "psa     23524\n",
       "Name: test group, dtype: int64"
      ]
     },
     "execution_count": 5,
     "metadata": {},
     "output_type": "execute_result"
    }
   ],
   "source": [
    "df['test group'].value_counts()"
   ]
  },
  {
   "cell_type": "code",
   "execution_count": 23,
   "id": "060d318a",
   "metadata": {},
   "outputs": [],
   "source": [
    "df['test_group_binary'] = np.where(df['test group'] == \"ad\", 1, 0)"
   ]
  },
  {
   "cell_type": "code",
   "execution_count": 24,
   "id": "9c62fa34",
   "metadata": {},
   "outputs": [
    {
     "data": {
      "text/plain": [
       "1    564577\n",
       "0     23524\n",
       "Name: test_group_binary, dtype: int64"
      ]
     },
     "execution_count": 24,
     "metadata": {},
     "output_type": "execute_result"
    }
   ],
   "source": [
    "df['test_group_binary'].value_counts()"
   ]
  },
  {
   "cell_type": "code",
   "execution_count": 51,
   "id": "6ac0ebef",
   "metadata": {},
   "outputs": [
    {
     "data": {
      "text/plain": [
       "0.960000068015528"
      ]
     },
     "execution_count": 51,
     "metadata": {},
     "output_type": "execute_result"
    }
   ],
   "source": [
    "df['test_group_binary'].mean()"
   ]
  },
  {
   "cell_type": "code",
   "execution_count": 9,
   "id": "5a7880fe",
   "metadata": {},
   "outputs": [
    {
     "data": {
      "text/plain": [
       "False    573258\n",
       "True      14843\n",
       "Name: converted, dtype: int64"
      ]
     },
     "execution_count": 9,
     "metadata": {},
     "output_type": "execute_result"
    }
   ],
   "source": [
    "df['converted'].value_counts()"
   ]
  },
  {
   "cell_type": "code",
   "execution_count": 52,
   "id": "1c0bb270",
   "metadata": {},
   "outputs": [
    {
     "data": {
      "text/plain": [
       "0.02523886203220195"
      ]
     },
     "execution_count": 52,
     "metadata": {},
     "output_type": "execute_result"
    }
   ],
   "source": [
    " df['converted'].mean()"
   ]
  },
  {
   "cell_type": "code",
   "execution_count": 14,
   "id": "335ef7ec",
   "metadata": {},
   "outputs": [],
   "source": [
    "df['converted_binary'] = df['converted'].astype(int)"
   ]
  },
  {
   "cell_type": "code",
   "execution_count": 49,
   "id": "08c8ba68",
   "metadata": {},
   "outputs": [
    {
     "data": {
      "text/html": [
       "<div>\n",
       "<style scoped>\n",
       "    .dataframe tbody tr th:only-of-type {\n",
       "        vertical-align: middle;\n",
       "    }\n",
       "\n",
       "    .dataframe tbody tr th {\n",
       "        vertical-align: top;\n",
       "    }\n",
       "\n",
       "    .dataframe thead th {\n",
       "        text-align: right;\n",
       "    }\n",
       "</style>\n",
       "<table border=\"1\" class=\"dataframe\">\n",
       "  <thead>\n",
       "    <tr style=\"text-align: right;\">\n",
       "      <th>converted</th>\n",
       "      <th>False</th>\n",
       "      <th>True</th>\n",
       "    </tr>\n",
       "    <tr>\n",
       "      <th>test_group_binary</th>\n",
       "      <th></th>\n",
       "      <th></th>\n",
       "    </tr>\n",
       "  </thead>\n",
       "  <tbody>\n",
       "    <tr>\n",
       "      <th>0</th>\n",
       "      <td>23104</td>\n",
       "      <td>420</td>\n",
       "    </tr>\n",
       "    <tr>\n",
       "      <th>1</th>\n",
       "      <td>550154</td>\n",
       "      <td>14423</td>\n",
       "    </tr>\n",
       "  </tbody>\n",
       "</table>\n",
       "</div>"
      ],
      "text/plain": [
       "converted           False   True\n",
       "test_group_binary               \n",
       "0                   23104    420\n",
       "1                  550154  14423"
      ]
     },
     "execution_count": 49,
     "metadata": {},
     "output_type": "execute_result"
    }
   ],
   "source": [
    "pd.crosstab(df['test_group_binary'], df['converted'])"
   ]
  },
  {
   "cell_type": "code",
   "execution_count": 55,
   "id": "111250ab",
   "metadata": {
    "scrolled": true
   },
   "outputs": [
    {
     "data": {
      "text/plain": [
       "0.9717038334568483"
      ]
     },
     "execution_count": 55,
     "metadata": {},
     "output_type": "execute_result"
    }
   ],
   "source": [
    "14423/(14423+420)"
   ]
  },
  {
   "cell_type": "markdown",
   "id": "986c8342",
   "metadata": {},
   "source": [
    "97.2% of the converted members had ads."
   ]
  },
  {
   "cell_type": "markdown",
   "id": "e9ba041c",
   "metadata": {},
   "source": [
    "# Designing the Experiment"
   ]
  },
  {
   "cell_type": "code",
   "execution_count": 54,
   "id": "40fb2447",
   "metadata": {},
   "outputs": [
    {
     "name": "stdout",
     "output_type": "stream",
     "text": [
      "1110\n"
     ]
    }
   ],
   "source": [
    "effect_size = sms.proportion_effectsize(0.02, 0.04)    # Calculating effect size based on our expected rates\n",
    "\n",
    "required_n = sms.NormalIndPower().solve_power(\n",
    "    effect_size, \n",
    "    power=0.8, \n",
    "    alpha=0.05, \n",
    "    ratio=1\n",
    "    )                                                  # Calculating sample size needed\n",
    "\n",
    "required_n = ceil(required_n)                          # Rounding up to next whole number                          \n",
    "\n",
    "print(required_n)"
   ]
  },
  {
   "cell_type": "markdown",
   "id": "f533981d",
   "metadata": {},
   "source": [
    "We need 1,110 members from both the ads and the control group."
   ]
  },
  {
   "cell_type": "code",
   "execution_count": 58,
   "id": "9af4a510",
   "metadata": {},
   "outputs": [
    {
     "name": "stdout",
     "output_type": "stream",
     "text": [
      "There are 0 users that appear multiple times in the dataset\n"
     ]
    }
   ],
   "source": [
    "session_counts = df['user id'].value_counts(ascending=False)\n",
    "multi_users = session_counts[session_counts > 1].count()\n",
    "\n",
    "print(f'There are {multi_users} users that appear multiple times in the dataset')"
   ]
  },
  {
   "cell_type": "code",
   "execution_count": 60,
   "id": "e97b78c0",
   "metadata": {},
   "outputs": [],
   "source": [
    "#pulling 1,110 observations in each group\n",
    "control_sample = df[df['test group'] == 'psa'].sample(n=required_n, random_state=22)\n",
    "treatment_sample = df[df['test group'] == 'ad'].sample(n=required_n, random_state=22)\n",
    "\n",
    "ab_test = pd.concat([control_sample, treatment_sample], axis=0)\n",
    "ab_test.reset_index(drop=True, inplace=True)"
   ]
  },
  {
   "cell_type": "code",
   "execution_count": 61,
   "id": "9f315e24",
   "metadata": {},
   "outputs": [
    {
     "data": {
      "text/html": [
       "<div>\n",
       "<style scoped>\n",
       "    .dataframe tbody tr th:only-of-type {\n",
       "        vertical-align: middle;\n",
       "    }\n",
       "\n",
       "    .dataframe tbody tr th {\n",
       "        vertical-align: top;\n",
       "    }\n",
       "\n",
       "    .dataframe thead th {\n",
       "        text-align: right;\n",
       "    }\n",
       "</style>\n",
       "<table border=\"1\" class=\"dataframe\">\n",
       "  <thead>\n",
       "    <tr style=\"text-align: right;\">\n",
       "      <th></th>\n",
       "      <th>Unnamed: 0</th>\n",
       "      <th>user id</th>\n",
       "      <th>test group</th>\n",
       "      <th>converted</th>\n",
       "      <th>total ads</th>\n",
       "      <th>most ads day</th>\n",
       "      <th>most ads hour</th>\n",
       "      <th>converted_binary</th>\n",
       "      <th>test_group_binary</th>\n",
       "      <th>value</th>\n",
       "    </tr>\n",
       "  </thead>\n",
       "  <tbody>\n",
       "    <tr>\n",
       "      <th>0</th>\n",
       "      <td>64765</td>\n",
       "      <td>916702</td>\n",
       "      <td>psa</td>\n",
       "      <td>False</td>\n",
       "      <td>7</td>\n",
       "      <td>Monday</td>\n",
       "      <td>17</td>\n",
       "      <td>0</td>\n",
       "      <td>0</td>\n",
       "      <td>1</td>\n",
       "    </tr>\n",
       "    <tr>\n",
       "      <th>1</th>\n",
       "      <td>393991</td>\n",
       "      <td>911687</td>\n",
       "      <td>psa</td>\n",
       "      <td>False</td>\n",
       "      <td>2</td>\n",
       "      <td>Saturday</td>\n",
       "      <td>23</td>\n",
       "      <td>0</td>\n",
       "      <td>0</td>\n",
       "      <td>1</td>\n",
       "    </tr>\n",
       "    <tr>\n",
       "      <th>2</th>\n",
       "      <td>526948</td>\n",
       "      <td>911494</td>\n",
       "      <td>psa</td>\n",
       "      <td>False</td>\n",
       "      <td>6</td>\n",
       "      <td>Friday</td>\n",
       "      <td>21</td>\n",
       "      <td>0</td>\n",
       "      <td>0</td>\n",
       "      <td>1</td>\n",
       "    </tr>\n",
       "    <tr>\n",
       "      <th>3</th>\n",
       "      <td>65071</td>\n",
       "      <td>922101</td>\n",
       "      <td>psa</td>\n",
       "      <td>False</td>\n",
       "      <td>15</td>\n",
       "      <td>Friday</td>\n",
       "      <td>10</td>\n",
       "      <td>0</td>\n",
       "      <td>0</td>\n",
       "      <td>1</td>\n",
       "    </tr>\n",
       "    <tr>\n",
       "      <th>4</th>\n",
       "      <td>523574</td>\n",
       "      <td>904432</td>\n",
       "      <td>psa</td>\n",
       "      <td>False</td>\n",
       "      <td>23</td>\n",
       "      <td>Sunday</td>\n",
       "      <td>10</td>\n",
       "      <td>0</td>\n",
       "      <td>0</td>\n",
       "      <td>1</td>\n",
       "    </tr>\n",
       "    <tr>\n",
       "      <th>...</th>\n",
       "      <td>...</td>\n",
       "      <td>...</td>\n",
       "      <td>...</td>\n",
       "      <td>...</td>\n",
       "      <td>...</td>\n",
       "      <td>...</td>\n",
       "      <td>...</td>\n",
       "      <td>...</td>\n",
       "      <td>...</td>\n",
       "      <td>...</td>\n",
       "    </tr>\n",
       "    <tr>\n",
       "      <th>2215</th>\n",
       "      <td>109559</td>\n",
       "      <td>1467424</td>\n",
       "      <td>ad</td>\n",
       "      <td>False</td>\n",
       "      <td>29</td>\n",
       "      <td>Sunday</td>\n",
       "      <td>12</td>\n",
       "      <td>0</td>\n",
       "      <td>1</td>\n",
       "      <td>1</td>\n",
       "    </tr>\n",
       "    <tr>\n",
       "      <th>2216</th>\n",
       "      <td>189778</td>\n",
       "      <td>1645912</td>\n",
       "      <td>ad</td>\n",
       "      <td>False</td>\n",
       "      <td>41</td>\n",
       "      <td>Monday</td>\n",
       "      <td>15</td>\n",
       "      <td>0</td>\n",
       "      <td>1</td>\n",
       "      <td>1</td>\n",
       "    </tr>\n",
       "    <tr>\n",
       "      <th>2217</th>\n",
       "      <td>322400</td>\n",
       "      <td>1115106</td>\n",
       "      <td>ad</td>\n",
       "      <td>False</td>\n",
       "      <td>17</td>\n",
       "      <td>Sunday</td>\n",
       "      <td>8</td>\n",
       "      <td>0</td>\n",
       "      <td>1</td>\n",
       "      <td>1</td>\n",
       "    </tr>\n",
       "    <tr>\n",
       "      <th>2218</th>\n",
       "      <td>161643</td>\n",
       "      <td>1414693</td>\n",
       "      <td>ad</td>\n",
       "      <td>False</td>\n",
       "      <td>26</td>\n",
       "      <td>Tuesday</td>\n",
       "      <td>14</td>\n",
       "      <td>0</td>\n",
       "      <td>1</td>\n",
       "      <td>1</td>\n",
       "    </tr>\n",
       "    <tr>\n",
       "      <th>2219</th>\n",
       "      <td>72021</td>\n",
       "      <td>1140956</td>\n",
       "      <td>ad</td>\n",
       "      <td>True</td>\n",
       "      <td>218</td>\n",
       "      <td>Monday</td>\n",
       "      <td>8</td>\n",
       "      <td>1</td>\n",
       "      <td>1</td>\n",
       "      <td>1</td>\n",
       "    </tr>\n",
       "  </tbody>\n",
       "</table>\n",
       "<p>2220 rows × 10 columns</p>\n",
       "</div>"
      ],
      "text/plain": [
       "      Unnamed: 0  user id test group  converted  total ads most ads day  \\\n",
       "0          64765   916702        psa      False          7       Monday   \n",
       "1         393991   911687        psa      False          2     Saturday   \n",
       "2         526948   911494        psa      False          6       Friday   \n",
       "3          65071   922101        psa      False         15       Friday   \n",
       "4         523574   904432        psa      False         23       Sunday   \n",
       "...          ...      ...        ...        ...        ...          ...   \n",
       "2215      109559  1467424         ad      False         29       Sunday   \n",
       "2216      189778  1645912         ad      False         41       Monday   \n",
       "2217      322400  1115106         ad      False         17       Sunday   \n",
       "2218      161643  1414693         ad      False         26      Tuesday   \n",
       "2219       72021  1140956         ad       True        218       Monday   \n",
       "\n",
       "      most ads hour  converted_binary  test_group_binary  value  \n",
       "0                17                 0                  0      1  \n",
       "1                23                 0                  0      1  \n",
       "2                21                 0                  0      1  \n",
       "3                10                 0                  0      1  \n",
       "4                10                 0                  0      1  \n",
       "...             ...               ...                ...    ...  \n",
       "2215             12                 0                  1      1  \n",
       "2216             15                 0                  1      1  \n",
       "2217              8                 0                  1      1  \n",
       "2218             14                 0                  1      1  \n",
       "2219              8                 1                  1      1  \n",
       "\n",
       "[2220 rows x 10 columns]"
      ]
     },
     "execution_count": 61,
     "metadata": {},
     "output_type": "execute_result"
    }
   ],
   "source": [
    "ab_test"
   ]
  },
  {
   "cell_type": "code",
   "execution_count": 63,
   "id": "599dc6c2",
   "metadata": {},
   "outputs": [
    {
     "data": {
      "text/plain": [
       "psa    1110\n",
       "ad     1110\n",
       "Name: test group, dtype: int64"
      ]
     },
     "execution_count": 63,
     "metadata": {},
     "output_type": "execute_result"
    }
   ],
   "source": [
    "ab_test['test group'].value_counts()"
   ]
  },
  {
   "cell_type": "markdown",
   "id": "3daaa1de",
   "metadata": {},
   "source": [
    "# Visualizing the Results"
   ]
  },
  {
   "cell_type": "code",
   "execution_count": 65,
   "id": "e5cc5fb6",
   "metadata": {},
   "outputs": [
    {
     "data": {
      "text/html": [
       "<style type=\"text/css\">\n",
       "</style>\n",
       "<table id=\"T_6ebd4\">\n",
       "  <thead>\n",
       "    <tr>\n",
       "      <th class=\"blank level0\" >&nbsp;</th>\n",
       "      <th id=\"T_6ebd4_level0_col0\" class=\"col_heading level0 col0\" >conversion_rate</th>\n",
       "      <th id=\"T_6ebd4_level0_col1\" class=\"col_heading level0 col1\" >std_deviation</th>\n",
       "      <th id=\"T_6ebd4_level0_col2\" class=\"col_heading level0 col2\" >std_error</th>\n",
       "    </tr>\n",
       "    <tr>\n",
       "      <th class=\"index_name level0\" >test group</th>\n",
       "      <th class=\"blank col0\" >&nbsp;</th>\n",
       "      <th class=\"blank col1\" >&nbsp;</th>\n",
       "      <th class=\"blank col2\" >&nbsp;</th>\n",
       "    </tr>\n",
       "  </thead>\n",
       "  <tbody>\n",
       "    <tr>\n",
       "      <th id=\"T_6ebd4_level0_row0\" class=\"row_heading level0 row0\" >ad</th>\n",
       "      <td id=\"T_6ebd4_row0_col0\" class=\"data row0 col0\" >0.029</td>\n",
       "      <td id=\"T_6ebd4_row0_col1\" class=\"data row0 col1\" >0.167</td>\n",
       "      <td id=\"T_6ebd4_row0_col2\" class=\"data row0 col2\" >0.005</td>\n",
       "    </tr>\n",
       "    <tr>\n",
       "      <th id=\"T_6ebd4_level0_row1\" class=\"row_heading level0 row1\" >psa</th>\n",
       "      <td id=\"T_6ebd4_row1_col0\" class=\"data row1 col0\" >0.024</td>\n",
       "      <td id=\"T_6ebd4_row1_col1\" class=\"data row1 col1\" >0.154</td>\n",
       "      <td id=\"T_6ebd4_row1_col2\" class=\"data row1 col2\" >0.005</td>\n",
       "    </tr>\n",
       "  </tbody>\n",
       "</table>\n"
      ],
      "text/plain": [
       "<pandas.io.formats.style.Styler at 0x7fdad4cb5eb0>"
      ]
     },
     "execution_count": 65,
     "metadata": {},
     "output_type": "execute_result"
    }
   ],
   "source": [
    "conversion_rates = ab_test.groupby('test group')['converted']\n",
    "\n",
    "std_p = lambda x: np.std(x, ddof=0)              # Std. deviation of the proportion\n",
    "se_p = lambda x: stats.sem(x, ddof=0)            # Std. error of the proportion (std / sqrt(n))\n",
    "\n",
    "conversion_rates = conversion_rates.agg([np.mean, std_p, se_p])\n",
    "conversion_rates.columns = ['conversion_rate', 'std_deviation', 'std_error']\n",
    "\n",
    "\n",
    "conversion_rates.style.format('{:.3f}')"
   ]
  },
  {
   "cell_type": "markdown",
   "id": "88ab7acc",
   "metadata": {},
   "source": [
    "With the statistics above, our designs performed similarly (2.9% for the ads and 2.4% for the control which is the psa group), with our ads performing slightly better."
   ]
  },
  {
   "cell_type": "code",
   "execution_count": 67,
   "id": "965c82ab",
   "metadata": {},
   "outputs": [
    {
     "data": {
      "text/plain": [
       "Text(0, 0.5, 'Converted (proportion)')"
      ]
     },
     "execution_count": 67,
     "metadata": {},
     "output_type": "execute_result"
    },
    {
     "data": {
      "image/png": "[encoded data removed]",
      "text/plain": [
       "<Figure size 800x600 with 1 Axes>"
      ]
     },
     "metadata": {},
     "output_type": "display_data"
    }
   ],
   "source": [
    "plt.figure(figsize=(8,6))\n",
    "\n",
    "sns.barplot(x=ab_test['test group'], y=ab_test['converted'], ci=False)\n",
    "\n",
    "plt.ylim(0, 0.17)\n",
    "plt.title('Conversion rate by group', pad=20)\n",
    "plt.xlabel('Group', labelpad=15)\n",
    "plt.ylabel('Converted (proportion)', labelpad=15)"
   ]
  },
  {
   "cell_type": "code",
   "execution_count": null,
   "id": "d07f6c59",
   "metadata": {},
   "outputs": [],
   "source": []
  }
 ],
 "metadata": {
  "kernelspec": {
   "display_name": "Python 3 (ipykernel)",
   "language": "python",
   "name": "python3"
  },
  "language_info": {
   "codemirror_mode": {
    "name": "ipython",
    "version": 3
   },
   "file_extension": ".py",
   "mimetype": "text/x-python",
   "name": "python",
   "nbconvert_exporter": "python",
   "pygments_lexer": "ipython3",
   "version": "3.9.13"
  }
 },
 "nbformat": 4,
 "nbformat_minor": 5
}
